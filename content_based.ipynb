{
 "cells": [
  {
   "cell_type": "code",
   "execution_count": 4,
   "metadata": {},
   "outputs": [],
   "source": [
    "import numpy as np\n",
    "import pandas as pd"
   ]
  },
  {
   "cell_type": "code",
   "execution_count": 5,
   "metadata": {},
   "outputs": [],
   "source": [
    "from typing import List, Dict\n"
   ]
  },
  {
   "cell_type": "code",
   "execution_count": 6,
   "metadata": {},
   "outputs": [],
   "source": [
    "from sklearn.feature_extraction.text import TfidfVectorizer\n",
    "from sklearn.metrics.pairwise import cosine_similarity\n"
   ]
  },
  {
   "cell_type": "code",
   "execution_count": 7,
   "metadata": {},
   "outputs": [
    {
     "data": {
      "text/html": [
       "<div>\n",
       "<style scoped>\n",
       "    .dataframe tbody tr th:only-of-type {\n",
       "        vertical-align: middle;\n",
       "    }\n",
       "\n",
       "    .dataframe tbody tr th {\n",
       "        vertical-align: top;\n",
       "    }\n",
       "\n",
       "    .dataframe thead th {\n",
       "        text-align: right;\n",
       "    }\n",
       "</style>\n",
       "<table border=\"1\" class=\"dataframe\">\n",
       "  <thead>\n",
       "    <tr style=\"text-align: right;\">\n",
       "      <th></th>\n",
       "      <th>title</th>\n",
       "      <th>artists_name</th>\n",
       "      <th>album</th>\n",
       "      <th>genres_id</th>\n",
       "    </tr>\n",
       "    <tr>\n",
       "      <th>encode_id</th>\n",
       "      <th></th>\n",
       "      <th></th>\n",
       "      <th></th>\n",
       "      <th></th>\n",
       "    </tr>\n",
       "  </thead>\n",
       "  <tbody>\n",
       "    <tr>\n",
       "      <th>ZZAIEEWO</th>\n",
       "      <td>!!E</td>\n",
       "      <td>['Jasper Riedijk']</td>\n",
       "      <td>Black Flag (Single)</td>\n",
       "      <td>['IWZ9Z08O', 'IWZ9Z09A']</td>\n",
       "    </tr>\n",
       "    <tr>\n",
       "      <th>ZUUB8EZC</th>\n",
       "      <td>#'s</td>\n",
       "      <td>['Yung Mal']</td>\n",
       "      <td>NaN</td>\n",
       "      <td>['IWZ9Z08O', 'IWZ9Z09B']</td>\n",
       "    </tr>\n",
       "    <tr>\n",
       "      <th>ZUZF6F9C</th>\n",
       "      <td>#'s (Remix)</td>\n",
       "      <td>['Yung Mal', 'Stunna 4 Vegas']</td>\n",
       "      <td>#'s (Remix) (Single)</td>\n",
       "      <td>['IWZ9Z08O', 'IWZ9Z09B']</td>\n",
       "    </tr>\n",
       "    <tr>\n",
       "      <th>ZWAC98UW</th>\n",
       "      <td>#A</td>\n",
       "      <td>['Fabrizio Moro']</td>\n",
       "      <td>Figli di nessuno</td>\n",
       "      <td>['IWZ9Z08O', 'IWZ9Z097']</td>\n",
       "    </tr>\n",
       "    <tr>\n",
       "      <th>ZW77F8E7</th>\n",
       "      <td>#BabyBaby</td>\n",
       "      <td>['MONSTAR']</td>\n",
       "      <td>#BabyBaby (Single)</td>\n",
       "      <td>['IWZ9Z08I', 'IWZ9Z088', 'IWZ97FCD']</td>\n",
       "    </tr>\n",
       "  </tbody>\n",
       "</table>\n",
       "</div>"
      ],
      "text/plain": [
       "                 title                    artists_name                 album  \\\n",
       "encode_id                                                                      \n",
       "ZZAIEEWO           !!E              ['Jasper Riedijk']   Black Flag (Single)   \n",
       "ZUUB8EZC           #'s                    ['Yung Mal']                   NaN   \n",
       "ZUZF6F9C   #'s (Remix)  ['Yung Mal', 'Stunna 4 Vegas']  #'s (Remix) (Single)   \n",
       "ZWAC98UW            #A               ['Fabrizio Moro']      Figli di nessuno   \n",
       "ZW77F8E7     #BabyBaby                     ['MONSTAR']    #BabyBaby (Single)   \n",
       "\n",
       "                                      genres_id  \n",
       "encode_id                                        \n",
       "ZZAIEEWO               ['IWZ9Z08O', 'IWZ9Z09A']  \n",
       "ZUUB8EZC               ['IWZ9Z08O', 'IWZ9Z09B']  \n",
       "ZUZF6F9C               ['IWZ9Z08O', 'IWZ9Z09B']  \n",
       "ZWAC98UW               ['IWZ9Z08O', 'IWZ9Z097']  \n",
       "ZW77F8E7   ['IWZ9Z08I', 'IWZ9Z088', 'IWZ97FCD']  "
      ]
     },
     "execution_count": 7,
     "metadata": {},
     "output_type": "execute_result"
    }
   ],
   "source": [
    "song_data = pd.read_csv(\"song_data.csv\",index_col=\"encode_id\")\n",
    "song_data.head()"
   ]
  },
  {
   "cell_type": "code",
   "execution_count": 8,
   "metadata": {},
   "outputs": [],
   "source": [
    "import re\n",
    "import time\n",
    "from datasketch import MinHash, MinHashLSHForest"
   ]
  },
  {
   "cell_type": "code",
   "execution_count": 9,
   "metadata": {},
   "outputs": [],
   "source": [
    "def preprocess(text):\n",
    "    return text.split()"
   ]
  },
  {
   "cell_type": "code",
   "execution_count": 48,
   "metadata": {},
   "outputs": [],
   "source": [
    "# Number of permutations\n",
    "permutations = 128\n",
    "\n",
    "# Number of Recommendations to return\n",
    "num_recommendations = 1\n"
   ]
  },
  {
   "cell_type": "code",
   "execution_count": 49,
   "metadata": {},
   "outputs": [],
   "source": [
    "def get_forest(data, perms):\n",
    "    start_time = time.time()\n",
    "\n",
    "    min_hash = []\n",
    "\n",
    "    for genre in data['genres_id']:\n",
    "        m = MinHash(num_perm=perms)\n",
    "        m.update(genre.encode('utf-8'))\n",
    "        min_hash.append(m)\n",
    "    forest = MinHashLSHForest(num_perm=perms)\n",
    "\n",
    "    for i,m in enumerate(min_hash):\n",
    "        forest.add(i,m)\n",
    "    forest.index()\n",
    "\n",
    "    print('It tooks %s seconds to build forest.'%(time.time()-start_time))\n",
    "    return forest   \n"
   ]
  },
  {
   "cell_type": "code",
   "execution_count": 120,
   "metadata": {},
   "outputs": [],
   "source": [
    "def predict(text, database, perms, num_results, forest):\n",
    "    start_time = time.time()\n",
    "\n",
    "    m = MinHash(num_perm=perms)\n",
    "    genres = database.loc[database['title'] == text]['genres_id']\n",
    "    for genre in genres:\n",
    "        m.update(genre.encode('utf-8'))\n",
    "    idx_array = np.array(forest.query(m, num_results))\n",
    "\n",
    "    if len(idx_array) == 0:\n",
    "        return None  # if your query is empty, return none\n",
    "    result = database.iloc[idx_array]['title'] + \\\n",
    "        database.iloc[idx_array]['genres_id']\n",
    "    print('It took %s seconds to query forest.' % (time.time()-start_time))\n",
    "    return result\n"
   ]
  },
  {
   "cell_type": "code",
   "execution_count": 51,
   "metadata": {},
   "outputs": [
    {
     "name": "stdout",
     "output_type": "stream",
     "text": [
      "It tooks 149.24301433563232 seconds to build forest.\n"
     ]
    }
   ],
   "source": [
    "forest = get_forest(song_data,permutations)"
   ]
  },
  {
   "cell_type": "code",
   "execution_count": 121,
   "metadata": {},
   "outputs": [
    {
     "name": "stdout",
     "output_type": "stream",
     "text": [
      "It took 0.01199793815612793 seconds to query forest.\n",
      "\n",
      " Top Recommendations(s) is(are)\n",
      " encode_id\n",
      "ZW6IZ6UU    Chuyện Đời Công Nhân['IWZ9Z08I', 'IWZ9Z088', '...\n",
      "ZW6Z0C8I    Bướm Trắng['IWZ9Z08I', 'IWZ9Z088', 'IWZ9Z08B',...\n",
      "ZW78E6AU    Apologize['IWZ9Z08I', 'IWZ9Z088', 'IWZ9Z08B', ...\n",
      "ZW6WCWUW    Buông Tay Lặng Im Accapella['IWZ9Z08I', 'IWZ9Z...\n",
      "ZW6IO7D7    Chôn Sâu Nỗi Nhớ['IWZ9Z08I', 'IWZ9Z088', 'IWZ9...\n",
      "dtype: object\n"
     ]
    }
   ],
   "source": [
    "num_recommendations = 5\n",
    "title = \"Feliz Navidad\"\n",
    "result = predict(title, song_data, permutations, num_recommendations, forest)\n",
    "\n",
    "print(\"\\n Top Recommendations(s) is(are)\\n\", result)\n"
   ]
  }
 ],
 "metadata": {
  "kernelspec": {
   "display_name": "Python 3",
   "language": "python",
   "name": "python3"
  },
  "language_info": {
   "codemirror_mode": {
    "name": "ipython",
    "version": 3
   },
   "file_extension": ".py",
   "mimetype": "text/x-python",
   "name": "python",
   "nbconvert_exporter": "python",
   "pygments_lexer": "ipython3",
   "version": "3.11.2"
  },
  "orig_nbformat": 4
 },
 "nbformat": 4,
 "nbformat_minor": 2
}
